{
 "cells": [
  {
   "cell_type": "code",
   "execution_count": 38,
   "metadata": {
    "collapsed": false
   },
   "outputs": [],
   "source": []
  },
  {
   "cell_type": "code",
   "execution_count": 44,
   "metadata": {
    "collapsed": false
   },
   "outputs": [],
   "source": [
    "from mpl_toolkits.axes_grid1 import host_subplot\n",
    "import mpl_toolkits.axisartist as AA\n",
    "import matplotlib.pyplot as plt\n",
    "\n",
    "if 1:\n",
    "\n",
    "    host = host_subplot(111, axes_class=AA.Axes)\n",
    "    plt.subplots_adjust(right=0.75)\n",
    "    \n",
    "    host.set_xlim(8600, 9600)\n",
    "    host.set_ylim(-400, 400)\n",
    "\n",
    "    \n",
    "    p1, = host.plot([8600, 9100, 9300, 9600], [-200, -200, 0, 300], label=\"+c\")\n",
    "    p2, = host.plot([8600, 9100, 9300, 9600], [200, 200, 0, -300], label=\"-c\")\n",
    "    \n",
    "    plt.plot([8600, 9600], [0, 0], 'k--')\n",
    "    plt.plot([9100, 9100], [-400, 400], 'k--')\n",
    "    plt.plot([9300, 9300], [-400, 400], 'k--')\n",
    "    \n",
    "    host.legend()\n",
    "    \n",
    "    plt.draw()\n",
    "    plt.show()"
   ]
  },
  {
   "cell_type": "code",
   "execution_count": 47,
   "metadata": {
    "collapsed": true
   },
   "outputs": [],
   "source": [
    "from mpl_toolkits.axes_grid1 import host_subplot\n",
    "import mpl_toolkits.axisartist as AA\n",
    "import matplotlib.pyplot as plt\n",
    "\n",
    "if 1:\n",
    "\n",
    "    host = host_subplot(111, axes_class=AA.Axes)\n",
    "    plt.subplots_adjust(right=0.75)\n",
    "    \n",
    "    host.set_xlim(8600, 9600)\n",
    "    host.set_ylim(-400, 400)\n",
    "\n",
    "    \n",
    "    p1, = host.plot([8600, 8900, 9100, 9600], [300, 0, -200, -200], label=\"+p\")\n",
    "    p2, = host.plot([8600, 8900, 9100, 9600], [-300, 0, 200, 200], label=\"-p\")\n",
    "    \n",
    "    plt.plot([8600, 9600], [0, 0], 'k--')\n",
    "    plt.plot([8900, 8900], [-400, 400], 'k--')\n",
    "    plt.plot([9100, 9100], [-400, 400], 'k--')\n",
    "    \n",
    "    host.legend()\n",
    "    \n",
    "    plt.draw()\n",
    "    plt.show()"
   ]
  },
  {
   "cell_type": "code",
   "execution_count": null,
   "metadata": {
    "collapsed": true
   },
   "outputs": [],
   "source": []
  }
 ],
 "metadata": {
  "kernelspec": {
   "display_name": "Python [Root]",
   "language": "python",
   "name": "Python [Root]"
  },
  "language_info": {
   "codemirror_mode": {
    "name": "ipython",
    "version": 3
   },
   "file_extension": ".py",
   "mimetype": "text/x-python",
   "name": "python",
   "nbconvert_exporter": "python",
   "pygments_lexer": "ipython3",
   "version": "3.5.2"
  }
 },
 "nbformat": 4,
 "nbformat_minor": 0
}
